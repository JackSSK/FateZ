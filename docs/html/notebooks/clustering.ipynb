{
 "cells": [
  {
   "cell_type": "markdown",
   "id": "b69b2ab7",
   "metadata": {},
   "source": [
    "# FateZ Clustering \n",
    "\n",
    "This notebook demonstrate how to implement clustering method with FateZ's representing method"
   ]
  },
  {
   "cell_type": "code",
   "execution_count": 1,
   "id": "dd050393",
   "metadata": {},
   "outputs": [],
   "source": [
    "import os\n",
    "import torch\n",
    "import numpy as np\n",
    "from torch.utils.data import DataLoader\n",
    "from pkg_resources import resource_filename\n",
    "from sklearn import cluster\n",
    "import fatez.test as test\n",
    "import fatez.model as model\n",
    "\n",
    "# Ignoring warnings because of using LazyLinear\n",
    "import warnings\n",
    "warnings.filterwarnings('ignore')"
   ]
  },
  {
   "cell_type": "markdown",
   "id": "10210c8d",
   "metadata": {},
   "source": [
    "### Initialize testing model first."
   ]
  },
  {
   "cell_type": "code",
   "execution_count": 2,
   "id": "3948e182",
   "metadata": {},
   "outputs": [
    {
     "name": "stdout",
     "output_type": "stream",
     "text": [
      "Testing Full Model.\n",
      "\n",
      "\tPre-Trainer Green.\n",
      "\n",
      "\tFine-Tuner Green.\n",
      "\n",
      "\tExplainer Green.\n",
      "\n"
     ]
    }
   ],
   "source": [
    "faker = test.Faker()\n",
    "testM = faker.test_full_model()\n",
    "# model.Save(faker.test_gat(), '../data/ignore/gat.model')\n",
    "# model.Save(testM, '../data/ignore/trainer.model')"
   ]
  },
  {
   "cell_type": "markdown",
   "id": "255aa807",
   "metadata": {},
   "source": [
    "### Prepare flatten data for clustering"
   ]
  },
  {
   "cell_type": "code",
   "execution_count": 3,
   "id": "82ce2fb9",
   "metadata": {},
   "outputs": [
    {
     "name": "stdout",
     "output_type": "stream",
     "text": [
      "tensor([0, 0, 0, 1, 1, 1, 1, 1, 1, 1])\n"
     ]
    }
   ],
   "source": [
    "dataset = faker.make_data_loader().dataset\n",
    "for x, labels in DataLoader(dataset, batch_size = len(dataset)):\n",
    "    all_fea_mat = x[0]\n",
    "    all_adj_mat = x[1]\n",
    "\n",
    "origin = [torch.reshape(ele, (-1,)).tolist() for ele in all_fea_mat]\n",
    "\n",
    "# The encoded representaions made by GAT -> BERT encoder\n",
    "encode = [\n",
    "    torch.reshape(ele, (-1,)).tolist() for ele in testM.get_encoder_output(\n",
    "        all_fea_mat, all_adj_mat\n",
    "    )\n",
    "]\n",
    "\n",
    "print(labels)"
   ]
  },
  {
   "cell_type": "markdown",
   "id": "b5299e3c",
   "metadata": {},
   "source": [
    "### Set clustering models and fit models with original data"
   ]
  },
  {
   "cell_type": "code",
   "execution_count": 4,
   "id": "48d8fea6",
   "metadata": {},
   "outputs": [
    {
     "name": "stdout",
     "output_type": "stream",
     "text": [
      "[-1 -1 -1 -1 -1 -1 -1 -1 -1 -1]\n",
      "[1 0 0 0 0 0 0 0 1 0]\n"
     ]
    }
   ],
   "source": [
    "eps = 0.5\n",
    "n_clusters = len(np.unique(labels))\n",
    "\n",
    "dbscan = cluster.DBSCAN(eps = eps)\n",
    "kmeans = cluster.KMeans(n_clusters = n_clusters)\n",
    "\n",
    "dbscan.fit(origin)\n",
    "kmeans.fit(origin)\n",
    "\n",
    "# Get labels\n",
    "print(dbscan.labels_.astype(int))\n",
    "print(kmeans.labels_.astype(int))"
   ]
  },
  {
   "cell_type": "markdown",
   "id": "eba48c10",
   "metadata": {},
   "source": [
    "### Reset models and fit with encoded representaions"
   ]
  },
  {
   "cell_type": "code",
   "execution_count": 5,
   "id": "1f1098d5",
   "metadata": {},
   "outputs": [
    {
     "name": "stdout",
     "output_type": "stream",
     "text": [
      "[-1 -1 -1 -1 -1 -1 -1 -1 -1 -1]\n",
      "[0 1 0 0 1 0 1 0 0 0]\n"
     ]
    }
   ],
   "source": [
    "dbscan = cluster.DBSCAN(eps = eps)\n",
    "kmeans = cluster.KMeans(n_clusters = n_clusters)\n",
    "dbscan.fit(encode)\n",
    "kmeans.fit(encode)\n",
    "\n",
    "# Get labels\n",
    "print(dbscan.labels_.astype(int))\n",
    "print(kmeans.labels_.astype(int))"
   ]
  }
 ],
 "metadata": {
  "kernelspec": {
   "display_name": "Python 3 (ipykernel)",
   "language": "python",
   "name": "python3"
  },
  "language_info": {
   "codemirror_mode": {
    "name": "ipython",
    "version": 3
   },
   "file_extension": ".py",
   "mimetype": "text/x-python",
   "name": "python",
   "nbconvert_exporter": "python",
   "pygments_lexer": "ipython3",
   "version": "3.8.10"
  }
 },
 "nbformat": 4,
 "nbformat_minor": 5
}
