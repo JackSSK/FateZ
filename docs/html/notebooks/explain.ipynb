{
 "cells": [
  {
   "cell_type": "markdown",
   "metadata": {},
   "source": [
    "# FateZ Explain \n",
    "\n",
    "This notebook demonstrate how to utilize explanatory methods of FateZ models."
   ]
  },
  {
   "cell_type": "code",
   "execution_count": 1,
   "metadata": {
    "vscode": {
     "languageId": "plaintext"
    }
   },
   "outputs": [
    {
     "name": "stdout",
     "output_type": "stream",
     "text": [
      "Done\n"
     ]
    }
   ],
   "source": [
    "import os\n",
    "import sys\n",
    "import torch\n",
    "from torch.utils.data import DataLoader\n",
    "import fatez.test as test\n",
    "import fatez.model as model\n",
    "import fatez.tool.JSON as JSON\n",
    "import fatez.process as process\n",
    "import fatez.process.explainer as explainer\n",
    "import fatez.process.fine_tuner as fine_tuner\n",
    "import fatez.process.pre_trainer as pre_trainer\n",
    "from pkg_resources import resource_filename\n",
    "\n",
    "# Ignoring warnings because of using LazyLinear\n",
    "import warnings\n",
    "warnings.filterwarnings('ignore')\n",
    "\n",
    "print('Done')"
   ]
  },
  {
   "cell_type": "markdown",
   "metadata": {},
   "source": [
    "### Build model and make some fake data first."
   ]
  },
  {
   "cell_type": "code",
   "execution_count": 2,
   "metadata": {
    "vscode": {
     "languageId": "plaintext"
    }
   },
   "outputs": [
    {
     "name": "stdout",
     "output_type": "stream",
     "text": [
      "Done\n"
     ]
    }
   ],
   "source": [
    "# Parameters\n",
    "params = {\n",
    "    'n_sample': 10,       # Fake samples to make\n",
    "    'batch_size': 1,      # Batch size\n",
    "}\n",
    "\n",
    "# Load built-in config file\n",
    "config = JSON.decode(resource_filename(\n",
    "        __name__, '../../fatez/data/config/gat_bert_config.json'\n",
    "    )\n",
    ")\n",
    "\n",
    "factory_kwargs = {'device': 'cuda', 'dtype': torch.float32,}\n",
    "\n",
    "# Generate Fake data\n",
    "faker = test.Faker(model_config = config, **params)\n",
    "train_dataloader = faker.make_data_loader()\n",
    "\n",
    "print('Done')"
   ]
  },
  {
   "cell_type": "markdown",
   "metadata": {},
   "source": [
    "### Now we perform pre-training with no label.\n"
   ]
  },
  {
   "cell_type": "markdown",
   "metadata": {},
   "source": [
    "Here trainer's $train\\_adj$ is set to False, and the model is NOT reconstructing the adjacency matrices, etc."
   ]
  },
  {
   "cell_type": "code",
   "execution_count": 3,
   "metadata": {
    "vscode": {
     "languageId": "plaintext"
    }
   },
   "outputs": [
    {
     "name": "stdout",
     "output_type": "stream",
     "text": [
      "        Loss\n",
      "0   1.565720\n",
      "1   2.900557\n",
      "2   2.166636\n",
      "3   1.762677\n",
      "4   2.366010\n",
      "5   2.911416\n",
      "6   2.797966\n",
      "7   1.742560\n",
      "8   2.400287\n",
      "9   1.946299\n",
      "10  2.256013\n"
     ]
    }
   ],
   "source": [
    "trainer = pre_trainer.Set(config, factory_kwargs)\n",
    "report = trainer.train(train_dataloader, report_batch = True)\n",
    "print(report)"
   ]
  },
  {
   "cell_type": "markdown",
   "metadata": {},
   "source": [
    "In the case of pre-training with reconstructing adjacency matrices as well."
   ]
  },
  {
   "cell_type": "code",
   "execution_count": 4,
   "metadata": {
    "vscode": {
     "languageId": "plaintext"
    }
   },
   "outputs": [
    {
     "name": "stdout",
     "output_type": "stream",
     "text": [
      "        Loss\n",
      "0   2.821428\n",
      "1   1.732386\n",
      "2   2.861434\n",
      "3   2.155074\n",
      "4   2.810074\n",
      "5   2.665386\n",
      "6   1.765009\n",
      "7   2.106514\n",
      "8   1.699396\n",
      "9   2.549504\n",
      "10  2.316621\n"
     ]
    }
   ],
   "source": [
    "config['pre_trainer']['train_adj'] = True\n",
    "trainer = pre_trainer.Set(config, factory_kwargs)\n",
    "report = trainer.train(train_dataloader, report_batch = True)\n",
    "print(report)"
   ]
  },
  {
   "cell_type": "markdown",
   "metadata": {},
   "source": [
    "### Then, we can go for fine tuning part with class labels."
   ]
  },
  {
   "cell_type": "code",
   "execution_count": 5,
   "metadata": {
    "vscode": {
     "languageId": "plaintext"
    }
   },
   "outputs": [
    {
     "name": "stdout",
     "output_type": "stream",
     "text": [
      "        Loss  ACC\n",
      "0   0.707717  0.0\n",
      "1   0.656518  1.0\n",
      "2   0.832635  0.0\n",
      "3   0.608765  1.0\n",
      "4   0.518559  1.0\n",
      "5   0.511055  1.0\n",
      "6   0.960859  0.0\n",
      "7   0.875309  0.0\n",
      "8   0.917681  0.0\n",
      "9   0.931165  0.0\n",
      "10  0.752026  0.4\n"
     ]
    }
   ],
   "source": [
    "tuner = fine_tuner.Set(config, factory_kwargs, prev_model = trainer.model)\n",
    "report = tuner.train(train_dataloader, report_batch = True, quiet = True)\n",
    "print(report)"
   ]
  },
  {
   "cell_type": "markdown",
   "metadata": {},
   "source": [
    "### To explain Fine Tuning model in general. \n",
    "\n",
    "Note: to make overall conclusion on the contribution of a specific gene, we would need to sum up importance values for every feature dimension (RNA-count, peaks)"
   ]
  },
  {
   "cell_type": "code",
   "execution_count": 6,
   "metadata": {
    "vscode": {
     "languageId": "plaintext"
    }
   },
   "outputs": [
    {
     "name": "stdout",
     "output_type": "stream",
     "text": [
      "Explaining 2 classes.\n",
      "Each class has explain in shape of (1, 10, 2).\n"
     ]
    }
   ],
   "source": [
    "# Suppress debug print outs\n",
    "suppressor = process.Quiet_Mode()\n",
    "suppressor.on()\n",
    "\n",
    "# Get background data\n",
    "background_data = DataLoader(train_dataloader.dataset, batch_size = params['n_sample'])\n",
    "background_data = [a for a, _ in background_data][0]\n",
    "background_data = [a.to(factory_kwargs['device']) for a in background_data]\n",
    "explain = explainer.Gradient(tuner.model, background_data)\n",
    "print('Suppress here?')\n",
    "# vars can be used to estimate how accurate the explanation would be: lower the better\n",
    "for input_data, _ in train_dataloader:\n",
    "    input_data = [i.to(factory_kwargs['device']).to_dense() for i in input_data]\n",
    "    gene_shap_values, vars = explain.shap_values(input_data, return_variances = True)\n",
    "    break\n",
    "suppressor.off()\n",
    "    \n",
    "    \n",
    "print(f'Explaining {len(gene_shap_values)} classes.')\n",
    "\n",
    "# Having 2 inputs\n",
    "assert len(gene_shap_values[0]) == 2\n",
    "\n",
    "# Only the feat mat explanation should be working\n",
    "print(f'Each class has explain in shape of {gene_shap_values[0][0].shape}.')\n",
    "\n",
    "# The adj mat explanation should NOT be working since lacking gradient\n",
    "# print(gene_shap_values[0][1].shape)"
   ]
  },
  {
   "cell_type": "markdown",
   "metadata": {},
   "source": [
    "### To explain the BERT part for analyzing importances of TFs only.\n",
    "\n",
    "Note: similarly, we would want to sum up values across embed dimensions."
   ]
  },
  {
   "cell_type": "code",
   "execution_count": 17,
   "metadata": {
    "vscode": {
     "languageId": "plaintext"
    }
   },
   "outputs": [
    {
     "name": "stdout",
     "output_type": "stream",
     "text": [
      "Explaining 2 classes.\n",
      "Each class has explain in shape of (1, 4, 4).\n"
     ]
    }
   ],
   "source": [
    "# We also should accumulate gat_out for every trained input.\n",
    "explain = explainer.Gradient(\n",
    "    tuner.model.bert_model, \n",
    "    tuner.model.get_gat_output(background_data[0], background_data[1])\n",
    ")\n",
    "\n",
    "# Here I just make 1 gat_out for example\n",
    "regulon_shap_values, vars = explain.shap_values(\n",
    "    tuner.model.get_gat_output(input_data[0], input_data[1]), \n",
    "    return_variances=True\n",
    ")\n",
    "\n",
    "print(f'Explaining {len(regulon_shap_values)} classes.')\n",
    "print(f'Each class has explain in shape of {regulon_shap_values[0].shape}.')"
   ]
  },
  {
   "cell_type": "markdown",
   "metadata": {},
   "source": [
    "### To explain the GAT for analyzing GRP importances.\n",
    "\n",
    "The grp_explain here is purely based on the GAT attention weights."
   ]
  },
  {
   "cell_type": "code",
   "execution_count": 18,
   "metadata": {
    "vscode": {
     "languageId": "plaintext"
    }
   },
   "outputs": [
    {
     "name": "stdout",
     "output_type": "stream",
     "text": [
      "torch.Size([4, 10])\n",
      "torch.Size([4, 10])\n"
     ]
    }
   ],
   "source": [
    "grp_explain = tuner.model.gat.explain(input_data[0][0], input_data[1][0])\n",
    "print(grp_explain.shape)\n",
    "\n",
    "# Or we can feed in matrices with ones to extract attention weights.\n",
    "grp_explain = tuner.model.gat.explain(\n",
    "    torch.ones_like(input_data[0][0]),\n",
    "    torch.ones_like(input_data[1][0])\n",
    ")\n",
    "print(grp_explain.shape)"
   ]
  },
  {
   "cell_type": "markdown",
   "metadata": {},
   "source": [
    "Utilizing the importance values of each gene or TF regulon inferred from the calculated shapley values above would be sufficent to obtain importances of each GRP."
   ]
  },
  {
   "cell_type": "code",
   "execution_count": 19,
   "metadata": {
    "vscode": {
     "languageId": "plaintext"
    }
   },
   "outputs": [
    {
     "name": "stdout",
     "output_type": "stream",
     "text": [
      "(1, 4)\n",
      "(1, 10)\n"
     ]
    }
   ],
   "source": [
    "# Sum up shapley values of each features for every node (gene or TF).\n",
    "regulon_importance_values = regulon_shap_values[0].sum(2)\n",
    "gene_importance_values = gene_shap_values[0][0].sum(2)\n",
    "print(regulon_importance_values.shape)\n",
    "print(gene_importance_values.shape)\n",
    "grp_explain = grp_explain.to(factory_kwargs['device'])\n",
    "grp_importance = torch.matmul(torch.Tensor(regulon_importance_values[0]).to(factory_kwargs['device']), grp_explain)\n",
    "grp_importance = torch.matmul(grp_explain, torch.Tensor(gene_importance_values[0]).to(factory_kwargs['device']))"
   ]
  }
 ],
 "metadata": {
  "kernelspec": {
   "display_name": "Python 3 (ipykernel)",
   "language": "python",
   "name": "python3"
  },
  "language_info": {
   "codemirror_mode": {
    "name": "ipython",
    "version": 3
   },
   "file_extension": ".py",
   "mimetype": "text/x-python",
   "name": "python",
   "nbconvert_exporter": "python",
   "pygments_lexer": "ipython3",
   "version": "3.10.6"
  }
 },
 "nbformat": 4,
 "nbformat_minor": 2
}
