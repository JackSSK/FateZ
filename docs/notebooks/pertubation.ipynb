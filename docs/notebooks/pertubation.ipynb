{
 "cells": [
  {
   "cell_type": "markdown",
   "metadata": {},
   "source": [
    "# FateZ Multiomic Pertubation Effect Prediction(?)\n",
    "This notebook demonstrate how to implement Pertubation Effect Prediction method with FateZ's modules."
   ]
  },
  {
   "cell_type": "code",
   "execution_count": 2,
   "metadata": {},
   "outputs": [
    {
     "name": "stdout",
     "output_type": "stream",
     "text": [
      "Done Init\n"
     ]
    }
   ],
   "source": [
    "import os\n",
    "import sys\n",
    "import torch\n",
    "import torch.nn as nn\n",
    "from torch.utils.data import DataLoader\n",
    "import pandas as pd\n",
    "import fatez.lib as lib\n",
    "import fatez.test as test\n",
    "import fatez.model as model\n",
    "import fatez.tool.JSON as JSON\n",
    "import fatez.process as process\n",
    "import fatez.process.worker as worker\n",
    "import fatez.process.fine_tuner as fine_tuner\n",
    "import fatez.process.pre_trainer as pre_trainer\n",
    "from pkg_resources import resource_filename\n",
    "\n",
    "suppressor = process.Quiet_Mode()\n",
    "device = [0]\n",
    "dtype = torch.float32\n",
    "worker.setup(device)\n",
    "print('Done Init')"
   ]
  },
  {
   "cell_type": "markdown",
   "metadata": {},
   "source": [
    "### Build model and make some fake data first."
   ]
  },
  {
   "cell_type": "code",
   "execution_count": 3,
   "metadata": {},
   "outputs": [
    {
     "name": "stdout",
     "output_type": "stream",
     "text": [
      "Done Fake Data\n"
     ]
    }
   ],
   "source": [
    "# Parameters\n",
    "params = {\n",
    "    'n_sample': 10,       # Fake samples to make\n",
    "    'batch_size': 2,      # Batch size\n",
    "}\n",
    "\n",
    "# Load built-in config file\n",
    "config = JSON.decode(resource_filename(\n",
    "        __name__, '../../fatez/data/config/gat_bert_config.json'\n",
    "    )\n",
    ")\n",
    "\n",
    "# Generate Fake data\n",
    "faker = test.Faker(model_config = config, dtype = dtype, **params)\n",
    "pertubation_dataloader = faker.make_data_loader()\n",
    "result_dataloader = faker.make_data_loader()\n",
    "\n",
    "# Make id of pertubation result the 'label' of each sample\n",
    "for i,k in enumerate(pertubation_dataloader.dataset.samples):\n",
    "    k.y = i\n",
    "    \n",
    "print('Done Fake Data')"
   ]
  },
  {
   "cell_type": "markdown",
   "metadata": {},
   "source": [
    "### The model will be architecturally similar with a pretrainer"
   ]
  },
  {
   "cell_type": "code",
   "execution_count": 4,
   "metadata": {},
   "outputs": [
    {
     "name": "stdout",
     "output_type": "stream",
     "text": [
      "Model Set\n"
     ]
    }
   ],
   "source": [
    "trainer = pre_trainer.Set(config, dtype = dtype, device=device)\n",
    "\n",
    "print('Model Set')"
   ]
  },
  {
   "cell_type": "markdown",
   "metadata": {},
   "source": [
    "### However, the training part will be littel bit different\n",
    "This part is modified based on pre_trainer.Trainer.train()"
   ]
  },
  {
   "cell_type": "code",
   "execution_count": null,
   "metadata": {},
   "outputs": [],
   "source": [
    "report_batch = False\n",
    "size = trainer.input_sizes\n",
    "\n",
    "trainer.worker.train(True)\n",
    "best_loss = 99\n",
    "loss_all = 0\n",
    "report = list()\n",
    "\n",
    "for x,y in pertubation_dataloader:\n",
    "    \n",
    "    # Prepare input data as always\n",
    "    input = [ele.to(trainer.device) for ele in x]\n",
    "    \n",
    "    # Mute some debug outputs\n",
    "    suppressor.on()\n",
    "    node_rec, adj_rec = trainer.worker(input)\n",
    "    suppressor.off()\n",
    "    \n",
    "    # Prepare pertubation result data using a seperate dataloader\n",
    "    y = [result_dataloader.dataset.samples[ele].to(trainer.device) for ele in y]\n",
    "    # Please be noted here that this script is only reconstructing TF parts\n",
    "    # To reconstruct whole genome, we can certainly add an additionaly layer which takes adj_rec and node_rec to do the job.\n",
    "    node_results = torch.split(\n",
    "        torch.stack([ele.x for ele in y], 0),\n",
    "        node_rec.shape[1],\n",
    "        dim = 1\n",
    "    )[0]\n",
    "    adj_results = lib.get_dense_adjs(\n",
    "        y, (size['n_reg'],size['n_node'],size['edge_attr'])\n",
    "    )\n",
    "    \n",
    "    # Get total loss\n",
    "    loss = worker.criterion(node_rec, node_results)\n",
    "    if adj_rec is not None:\n",
    "        loss += worker.criterion(adj_rec, adj_results)\n",
    "    \n",
    "    # Some backward stuffs here\n",
    "    loss.backward()\n",
    "    nn.utils.clip_grad_norm_(worker.model.parameters(), worker.max_norm)\n",
    "    worker.optimizer.step()\n",
    "    worker.optimizer.zero_grad()\n",
    "\n",
    "    # Accumulate\n",
    "    best_loss = min(best_loss, loss.item())\n",
    "    loss_all += loss.item()\n",
    "\n",
    "    # Some logs\n",
    "    if report_batch: report.append([loss.item()])\n",
    "\n",
    "\n",
    "worker.scheduler.step()\n",
    "report.append([loss_all / len(pertubation_dataloader)])\n",
    "report = pd.DataFrame(report)\n",
    "report.columns = ['Loss', ]\n",
    "print(report)"
   ]
  },
  {
   "cell_type": "markdown",
   "metadata": {},
   "source": [
    "### In the case of tuning unlabeled data, which does not have pertubation results... \n",
    "We shall set another trainer using previous model."
   ]
  },
  {
   "cell_type": "code",
   "execution_count": 16,
   "metadata": {},
   "outputs": [
    {
     "name": "stdout",
     "output_type": "stream",
     "text": [
      "       Loss\n",
      "0  2.158533\n"
     ]
    }
   ],
   "source": [
    "tuner = pre_trainer.Set(config, prev_model = trainer.model, dtype = dtype, device = device)\n",
    "\n",
    "# Some new fake data\n",
    "tuner_dataloader = faker.make_data_loader()\n",
    "\n",
    "# And the tuning process is also based on input reconstruction as pretraining\n",
    "suppressor.on()\n",
    "report = tuner.train(tuner_dataloader, report_batch = False,)\n",
    "suppressor.off()\n",
    "print(report)"
   ]
  },
  {
   "cell_type": "markdown",
   "metadata": {},
   "source": [
    "### Then we shall just use trainer object to make predictions.\n",
    "Similar with the training block above for trainer, but no need to prepare y."
   ]
  },
  {
   "cell_type": "code",
   "execution_count": 20,
   "metadata": {},
   "outputs": [
    {
     "name": "stdout",
     "output_type": "stream",
     "text": [
      "tensor([[[ 0.5430, -0.1700],\n",
      "         [ 0.3680, -0.3293],\n",
      "         [ 0.0803, -0.9275],\n",
      "         [ 0.2536, -0.8828]],\n",
      "\n",
      "        [[ 0.2999, -0.3589],\n",
      "         [ 0.1727, -0.4706],\n",
      "         [ 0.0262, -0.8993],\n",
      "         [ 0.3756, -0.8804]]], device='cuda:0', grad_fn=<ViewBackward0>) tensor([[[-5.2139e-02, -5.6997e-01, -4.4778e-01, -9.6441e-01, -1.1520e+00,\n",
      "          -3.1230e-01, -7.3601e-01,  2.4879e-01, -1.4497e+00, -1.1241e+00],\n",
      "         [-1.8447e-02, -4.3945e-01, -5.7454e-01, -1.0063e+00, -1.1827e+00,\n",
      "          -4.1978e-01, -8.2745e-01,  1.2897e-01, -1.3348e+00, -1.2095e+00],\n",
      "         [ 6.7265e-01,  7.5390e-01, -1.6032e+00, -3.6866e-02, -8.0894e-01,\n",
      "           6.2469e-02, -4.4538e-01, -3.6848e-01,  1.0399e-03, -5.0661e-01],\n",
      "         [ 2.9911e-01,  9.9707e-03, -1.3654e+00, -4.6959e-01, -1.3487e+00,\n",
      "          -1.5249e-01, -5.8249e-01, -6.0127e-02, -8.8377e-01, -9.6960e-01]],\n",
      "\n",
      "        [[-1.0271e-02, -3.8699e-01, -5.8424e-01, -1.0390e+00, -1.1630e+00,\n",
      "          -4.6992e-01, -8.7301e-01,  8.1720e-02, -1.2830e+00, -1.2394e+00],\n",
      "         [ 2.8105e-02, -2.6712e-01, -6.8145e-01, -1.0500e+00, -1.1625e+00,\n",
      "          -5.3495e-01, -9.3015e-01, -1.3120e-02, -1.1682e+00, -1.2793e+00],\n",
      "         [ 7.1061e-01,  8.6530e-01, -1.5752e+00, -3.0480e-02, -6.9210e-01,\n",
      "           4.7918e-02, -4.6863e-01, -4.2768e-01,  1.3575e-01, -4.6621e-01],\n",
      "         [ 3.3567e-01, -1.2508e-02, -1.4403e+00, -3.2085e-01, -1.3774e+00,\n",
      "          -7.0481e-03, -4.5336e-01,  2.6704e-03, -8.9687e-01, -8.5570e-01]]],\n",
      "       device='cuda:0', grad_fn=<ViewBackward0>)\n",
      "tensor([[[ 0.0498, -0.9590],\n",
      "         [ 0.3934, -0.3216],\n",
      "         [-0.0364, -0.8778],\n",
      "         [ 0.2068, -0.2996]],\n",
      "\n",
      "        [[-0.0706, -0.9895],\n",
      "         [ 0.5096, -0.2493],\n",
      "         [-0.0631, -0.8768],\n",
      "         [ 0.3673, -0.2309]]], device='cuda:0', grad_fn=<ViewBackward0>) tensor([[[ 0.3869,  0.2787, -1.4250, -0.4766, -1.1938, -0.2417, -0.6747,\n",
      "          -0.2360, -0.5899, -0.9602],\n",
      "         [-0.0201, -0.4576, -0.5756, -0.9912, -1.1921, -0.3995, -0.8089,\n",
      "           0.1461, -1.3530, -1.1973],\n",
      "         [ 0.7315,  0.9514, -1.5392, -0.0542, -0.5998,  0.0097, -0.5102,\n",
      "          -0.4829,  0.2374, -0.4578],\n",
      "         [-0.0225, -0.3241, -0.4698, -1.1462, -1.0492, -0.5721, -0.9720,\n",
      "           0.0195, -1.2074, -1.2827]],\n",
      "\n",
      "        [[ 0.5086,  0.5609, -1.4930, -0.3811, -0.9954, -0.2276, -0.6808,\n",
      "          -0.3779, -0.2626, -0.8452],\n",
      "         [-0.0350, -0.5419, -0.5339, -0.9429, -1.2012, -0.3171, -0.7361,\n",
      "           0.2251, -1.4315, -1.1403],\n",
      "         [ 0.7312,  0.9699, -1.5266, -0.0756, -0.5819, -0.0147, -0.5331,\n",
      "          -0.5009,  0.2572, -0.4706],\n",
      "         [-0.0432, -0.4504, -0.4471, -1.0710, -1.0986, -0.4552, -0.8655,\n",
      "           0.1317, -1.3330, -1.2145]]], device='cuda:0',\n",
      "       grad_fn=<ViewBackward0>)\n",
      "tensor([[[ 0.0119, -0.9852],\n",
      "         [ 0.1001, -0.5308],\n",
      "         [ 0.0941, -0.5171],\n",
      "         [ 0.3547, -0.8998]],\n",
      "\n",
      "        [[-0.0099, -0.9868],\n",
      "         [ 0.2606, -0.3975],\n",
      "         [ 0.2619, -0.3787],\n",
      "         [ 0.3610, -0.8780]]], device='cuda:0', grad_fn=<ViewBackward0>) tensor([[[ 0.5520,  0.5783, -1.5538, -0.2535, -0.9877, -0.1113, -0.5803,\n",
      "          -0.3456, -0.2310, -0.7393],\n",
      "         [ 0.0538, -0.1913, -0.7357, -1.0517, -1.1533, -0.5687, -0.9606,\n",
      "          -0.0695, -1.0931, -1.2953],\n",
      "         [ 0.0490, -0.1909, -0.7145, -1.0673, -1.1395, -0.5802, -0.9719,\n",
      "          -0.0724, -1.0912, -1.3008],\n",
      "         [ 0.3618,  0.0406, -1.4713, -0.2929, -1.3532,  0.0018, -0.4480,\n",
      "          -0.0232, -0.8373, -0.8329]],\n",
      "\n",
      "        [[ 0.5465,  0.5838, -1.5425, -0.2781, -0.9827, -0.1360, -0.6023,\n",
      "          -0.3572, -0.2271, -0.7584],\n",
      "         [ 0.0017, -0.3510, -0.6189, -1.0411, -1.1674, -0.4895, -0.8898,\n",
      "           0.0527, -1.2495, -1.2529],\n",
      "         [-0.0040, -0.3557, -0.5946, -1.0537, -1.1536, -0.4959, -0.8965,\n",
      "           0.0547, -1.2522, -1.2546],\n",
      "         [ 0.3255, -0.0189, -1.4242, -0.3481, -1.3783, -0.0305, -0.4736,\n",
      "          -0.0021, -0.9060, -0.8772]]], device='cuda:0',\n",
      "       grad_fn=<ViewBackward0>)\n",
      "tensor([[[-0.1223, -0.9685],\n",
      "         [ 0.1893, -0.4840],\n",
      "         [-0.0717, -0.8489],\n",
      "         [ 0.0842, -0.4644]],\n",
      "\n",
      "        [[-0.1218, -0.9554],\n",
      "         [ 0.1727, -0.5189],\n",
      "         [-0.0744, -0.8436],\n",
      "         [ 0.0733, -0.5027]]], device='cuda:0', grad_fn=<ViewBackward0>) tensor([[[ 0.6036,  0.7655, -1.5142, -0.2859, -0.8153, -0.1832, -0.6587,\n",
      "          -0.4647, -0.0144, -0.7204],\n",
      "         [ 0.0322, -0.2759, -0.7064, -1.0272, -1.1836, -0.5145, -0.9105,\n",
      "          -0.0028, -1.1791, -1.2696],\n",
      "         [ 0.7534,  1.0224, -1.5073, -0.0571, -0.5150, -0.0036, -0.5295,\n",
      "          -0.5210,  0.3249, -0.4322],\n",
      "         [ 0.0315, -0.1974, -0.6393, -1.1156, -1.0939, -0.6119, -1.0033,\n",
      "          -0.0751, -1.0920, -1.3144]],\n",
      "\n",
      "        [[ 0.6312,  0.8162, -1.5191, -0.2482, -0.7648, -0.1571, -0.6405,\n",
      "          -0.4801,  0.0498, -0.6745],\n",
      "         [ 0.0458, -0.2520, -0.7477, -1.0103, -1.1963, -0.5124, -0.9077,\n",
      "          -0.0176, -1.1572, -1.2686],\n",
      "         [ 0.7571,  1.0322, -1.5028, -0.0552, -0.5023, -0.0030, -0.5300,\n",
      "          -0.5253,  0.3375, -0.4262],\n",
      "         [ 0.0454, -0.1780, -0.6871, -1.0928, -1.1140, -0.6040, -0.9948,\n",
      "          -0.0860, -1.0755, -1.3114]]], device='cuda:0',\n",
      "       grad_fn=<ViewBackward0>)\n",
      "tensor([[[ 0.0159, -0.9736],\n",
      "         [ 0.1397, -0.9606],\n",
      "         [ 0.4261, -0.2603],\n",
      "         [ 0.2526, -0.2702]],\n",
      "\n",
      "        [[ 0.1800, -0.9207],\n",
      "         [ 0.1904, -0.9509],\n",
      "         [ 0.2984, -0.4279],\n",
      "         [ 0.0984, -0.4286]]], device='cuda:0', grad_fn=<ViewBackward0>) tensor([[[ 0.4201,  0.3545, -1.4502, -0.4496, -1.1464, -0.2382, -0.6760,\n",
      "          -0.2748, -0.5031, -0.9314],\n",
      "         [ 0.5989,  0.5763, -1.6136, -0.0911, -0.9809,  0.0471, -0.4431,\n",
      "          -0.2865, -0.2149, -0.5999],\n",
      "         [-0.0357, -0.4880, -0.5102, -1.0059, -1.1613, -0.3918, -0.8047,\n",
      "           0.1703, -1.3769, -1.1849],\n",
      "         [-0.0315, -0.3625, -0.4502, -1.1322, -1.0559, -0.5429, -0.9458,\n",
      "           0.0522, -1.2446, -1.2648]],\n",
      "\n",
      "        [[ 0.3381,  0.1160, -1.4036, -0.4584, -1.2957, -0.1764, -0.6084,\n",
      "          -0.1263, -0.7682, -0.9588],\n",
      "         [ 0.6030,  0.5509, -1.6273, -0.0482, -0.9968,  0.0957, -0.3993,\n",
      "          -0.2555, -0.2387, -0.5663],\n",
      "         [ 0.0114, -0.3704, -0.6758, -0.9887, -1.2149, -0.4426, -0.8449,\n",
      "           0.0761, -1.2736, -1.2303],\n",
      "         [ 0.0192, -0.2172, -0.5968, -1.1328, -1.0769, -0.6150, -1.0074,\n",
      "          -0.0626, -1.1091, -1.3143]]], device='cuda:0',\n",
      "       grad_fn=<ViewBackward0>)\n"
     ]
    }
   ],
   "source": [
    "trainer.model.eval()\n",
    "\n",
    "for x,_ in tuner_dataloader:\n",
    "    \n",
    "    # Prepare input data as always\n",
    "    input = [ele.to(trainer.device) for ele in x]\n",
    "    \n",
    "    # Mute some debug outputs\n",
    "    suppressor.on()\n",
    "    node_rec, adj_rec = trainer.model(input)\n",
    "    suppressor.off()\n",
    "    print(node_rec, adj_rec)"
   ]
  }
 ],
 "metadata": {
  "kernelspec": {
   "display_name": "Python 3 (ipykernel)",
   "language": "python",
   "name": "python3"
  },
  "language_info": {
   "codemirror_mode": {
    "name": "ipython",
    "version": 3
   },
   "file_extension": ".py",
   "mimetype": "text/x-python",
   "name": "python",
   "nbconvert_exporter": "python",
   "pygments_lexer": "ipython3",
   "version": "3.10.6"
  }
 },
 "nbformat": 4,
 "nbformat_minor": 2
}
