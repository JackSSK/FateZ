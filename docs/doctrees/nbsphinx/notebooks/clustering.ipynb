{
 "cells": [
  {
   "cell_type": "markdown",
   "id": "b69b2ab7",
   "metadata": {},
   "source": [
    "# FateZ Clustering \n",
    "\n",
    "This notebook demonstrate how to implement clustering method with FateZ's representing method"
   ]
  },
  {
   "cell_type": "code",
   "execution_count": 1,
   "id": "dd050393",
   "metadata": {},
   "outputs": [],
   "source": [
    "import os\n",
    "import torch\n",
    "import numpy as np\n",
    "from torch.utils.data import DataLoader\n",
    "from pkg_resources import resource_filename\n",
    "from sklearn import cluster\n",
    "import fatez.test as test\n",
    "import fatez.model as model\n",
    "import scanpy as sc\n",
    "\n",
    "# Ignoring warnings because of using LazyLinear\n",
    "import warnings\n",
    "warnings.filterwarnings('ignore')"
   ]
  },
  {
   "cell_type": "markdown",
   "id": "10210c8d",
   "metadata": {},
   "source": [
    "### Initialize testing model first."
   ]
  },
  {
   "cell_type": "code",
   "execution_count": 2,
   "id": "3948e182",
   "metadata": {},
   "outputs": [
    {
     "name": "stdout",
     "output_type": "stream",
     "text": [
      "Testing Full Model.\n",
      "\n",
      "\tPre-Trainer Green.\n",
      "\n",
      "\tFine-Tuner Green.\n",
      "\n",
      "\tExplainer Green.\n",
      "\n"
     ]
    }
   ],
   "source": [
    "faker = test.Faker()\n",
    "testM, _ = faker.test_full_model()\n",
    "# model.Save(faker.test_gat(), '../data/ignore/gat.model')\n",
    "# model.Save(testM, '../data/ignore/trainer.model')"
   ]
  },
  {
   "cell_type": "markdown",
   "id": "255aa807",
   "metadata": {},
   "source": [
    "### Get the fake dataset"
   ]
  },
  {
   "cell_type": "code",
   "execution_count": 3,
   "id": "82ce2fb9",
   "metadata": {},
   "outputs": [
    {
     "name": "stdout",
     "output_type": "stream",
     "text": [
      "Labels:\n",
      "[1, 1, 3, 3, 3, 0, 2, 0, 1, 2]\n"
     ]
    }
   ],
   "source": [
    "dataset = faker.make_data_loader().dataset\n",
    "for x, labels in DataLoader(dataset, batch_size = len(dataset)):\n",
    "    all_fea_mat = x[0]\n",
    "    all_adj_mat = x[1]\n",
    "print(f'Labels:\\n{labels.tolist()}')"
   ]
  },
  {
   "cell_type": "markdown",
   "id": "f82982f2",
   "metadata": {},
   "source": [
    "### Process origin data"
   ]
  },
  {
   "cell_type": "code",
   "execution_count": 4,
   "id": "59d0aef5",
   "metadata": {},
   "outputs": [
    {
     "name": "stdout",
     "output_type": "stream",
     "text": [
      "Origin Data Var Ratios:\n",
      "[0.23292051 0.16507269 0.15504806 0.11590058 0.1086289  0.08842403\n",
      " 0.07736817 0.04511147 0.0115256 ]\n"
     ]
    }
   ],
   "source": [
    "# Flatten Data\n",
    "origin = np.array([torch.reshape(ele, (-1,)).tolist() for ele in all_fea_mat])\n",
    "\n",
    "# PCA analysis for dimensionality deduction\n",
    "pca_analysis = sc.pp.pca(origin, n_comps = 9, return_info = True,)\n",
    "origin_pca = pca_analysis[0]\n",
    "var_ratios = pca_analysis[2]\n",
    "print(f'Origin Data Var Ratios:\\n{var_ratios}')\n"
   ]
  },
  {
   "cell_type": "markdown",
   "id": "96be974b",
   "metadata": {},
   "source": [
    "### Process data with encoder"
   ]
  },
  {
   "cell_type": "code",
   "execution_count": 5,
   "id": "d90f7dc8",
   "metadata": {},
   "outputs": [
    {
     "name": "stdout",
     "output_type": "stream",
     "text": [
      "Encoded Rep Var Ratios:\n",
      "[7.24497723e-01 1.99142691e-01 7.31430602e-02 2.65173665e-03\n",
      " 4.34263254e-04 1.27896569e-04 2.23717537e-06 3.91730420e-07\n",
      " 0.00000000e+00]\n"
     ]
    }
   ],
   "source": [
    "# Get encoded representaions made by GAT -> BERT encoder\n",
    "encode = np.array([\n",
    "    torch.reshape(ele, (-1,)).tolist() for ele in testM.get_encoder_output(\n",
    "        all_fea_mat, all_adj_mat\n",
    "    )\n",
    "])\n",
    "\n",
    "# PCA analysis for dimensionality deduction\n",
    "pca_analysis = sc.pp.pca(encode, n_comps = 9, return_info = True,)\n",
    "encode_pca = pca_analysis[0]\n",
    "var_ratios = pca_analysis[2]\n",
    "print(f'Encoded Rep Var Ratios:\\n{var_ratios}')"
   ]
  },
  {
   "cell_type": "markdown",
   "id": "b5299e3c",
   "metadata": {},
   "source": [
    "### Set clustering models and fit models with original data"
   ]
  },
  {
   "cell_type": "code",
   "execution_count": 6,
   "id": "48d8fea6",
   "metadata": {},
   "outputs": [
    {
     "name": "stdout",
     "output_type": "stream",
     "text": [
      "[-1 -1 -1 -1 -1 -1 -1 -1 -1 -1]\n",
      "[2 1 0 0 2 3 3 1 2 3]\n",
      "[0 0 0 0 0 0 0 0 0 0]\n"
     ]
    }
   ],
   "source": [
    "eps = 0.5\n",
    "n_clusters = len(np.unique(labels))\n",
    "min_samples = 5\n",
    "\n",
    "dbscan = cluster.DBSCAN(eps = eps)\n",
    "kmeans = cluster.KMeans(n_clusters = n_clusters)\n",
    "optics = cluster.OPTICS(min_samples = min_samples)\n",
    "\n",
    "dbscan.fit(origin_pca)\n",
    "kmeans.fit(origin_pca)\n",
    "optics.fit(origin_pca)\n",
    "\n",
    "# Get labels\n",
    "print(dbscan.labels_.astype(int))\n",
    "print(kmeans.labels_.astype(int))\n",
    "print(optics.labels_.astype(int))"
   ]
  },
  {
   "cell_type": "markdown",
   "id": "eba48c10",
   "metadata": {},
   "source": [
    "### Reset models and fit with encoded representaions"
   ]
  },
  {
   "cell_type": "code",
   "execution_count": 7,
   "id": "1f1098d5",
   "metadata": {},
   "outputs": [
    {
     "name": "stdout",
     "output_type": "stream",
     "text": [
      "[-1 -1  0  0  0  0  0 -1 -1 -1]\n",
      "[1 1 0 0 0 0 0 2 0 3]\n",
      "[0 0 0 0 0 0 0 0 0 0]\n"
     ]
    }
   ],
   "source": [
    "dbscan = cluster.DBSCAN(eps = eps)\n",
    "kmeans = cluster.KMeans(n_clusters = n_clusters)\n",
    "optics = cluster.OPTICS(min_samples = min_samples)\n",
    "dbscan.fit(encode_pca)\n",
    "kmeans.fit(encode_pca)\n",
    "optics.fit(encode_pca)\n",
    "\n",
    "# Get labels\n",
    "print(dbscan.labels_.astype(int))\n",
    "print(kmeans.labels_.astype(int))\n",
    "print(optics.labels_.astype(int))"
   ]
  }
 ],
 "metadata": {
  "kernelspec": {
   "display_name": "Python 3 (ipykernel)",
   "language": "python",
   "name": "python3"
  },
  "language_info": {
   "codemirror_mode": {
    "name": "ipython",
    "version": 3
   },
   "file_extension": ".py",
   "mimetype": "text/x-python",
   "name": "python",
   "nbconvert_exporter": "python",
   "pygments_lexer": "ipython3",
   "version": "3.8.10"
  }
 },
 "nbformat": 4,
 "nbformat_minor": 5
}
